{
 "cells": [
  {
   "cell_type": "code",
   "execution_count": 4,
   "id": "33252ee7-14df-459a-bb0e-2c39cc7d46f5",
   "metadata": {},
   "outputs": [],
   "source": [
    "# notebook to test out the basic functionlaites needed for the solution"
   ]
  },
  {
   "cell_type": "code",
   "execution_count": 40,
   "id": "1f875abe-2935-432a-b3bf-fd01adce505d",
   "metadata": {},
   "outputs": [],
   "source": [
    "# !pip install pdfplumber"
   ]
  },
  {
   "cell_type": "code",
   "execution_count": 34,
   "id": "ea32eddc-3c8a-43b3-b624-879084525dca",
   "metadata": {},
   "outputs": [],
   "source": [
    "import pytesseract\n",
    "import pdfplumber\n",
    "from pdf2image import convert_from_path\n",
    "import warnings\n",
    "import os\n",
    "import re\n",
    "warnings.filterwarnings('ignore')"
   ]
  },
  {
   "cell_type": "code",
   "execution_count": 35,
   "id": "82077373-b919-4959-a80b-9cf1b55cefbf",
   "metadata": {},
   "outputs": [],
   "source": [
    "# the user uploads the image or the pdf and we convert it and get data out of it\n",
    "file_path = 'ABC Company - Invoice INV0001.pdf' # this is a sample invoice we shall be using to extract data\n",
    "def read_invoice(invoice):\n",
    "    \"\"\"\n",
    "    This method shall only accept PDF or Images of the invoice and we shall get the data out of it.\n",
    "    \"\"\"\n",
    "    file_extension = os.path.splitext(file_path)[1].lower()\n",
    "    \n",
    "    if file_extension == '.pdf':\n",
    "        # reading data from the pdf, handling pdf data\n",
    "        text = \"\"\n",
    "        with pdfplumber.open(file_path) as pdf:\n",
    "            for page in pdf.pages:\n",
    "                text += page.extract_text() + \"\\n\"\n",
    "    else:\n",
    "        image = Image.open(file_path)\n",
    "        text = pytesseract.image_to_string(image)\n",
    "    \n",
    "    return text"
   ]
  },
  {
   "cell_type": "code",
   "execution_count": 36,
   "id": "d010b957-afaa-45f4-9eef-5a22fd9caa31",
   "metadata": {},
   "outputs": [],
   "source": [
    "txt = read_invoice(file_path)"
   ]
  },
  {
   "cell_type": "code",
   "execution_count": 41,
   "id": "83759a77-43c0-4dec-b927-1f01a19ea130",
   "metadata": {},
   "outputs": [],
   "source": [
    "def parse_invoice_metadata(text):\n",
    "    \"\"\"\n",
    "    Parse through the data gathered by read_invoice()\n",
    "    \"\"\"\n",
    "    lines = text.split('\\n')\n",
    "\n",
    "    # Initialize a dictionary to store metadata\n",
    "    metadata = {\n",
    "        \"invoice_number\": None,\n",
    "        \"date\": None,\n",
    "        \"due_date\": None,\n",
    "        \"total_amount\": None,\n",
    "        \"customer_name\": None,\n",
    "        \"customer_email\": None,\n",
    "        \"business_name\": None,\n",
    "        \"business_email\": None\n",
    "    }\n",
    "\n",
    "    # Regex patterns for different fields\n",
    "    invoice_pattern = re.compile(r\"INV\\d+\")           \n",
    "    date_pattern = re.compile(r\"\\b\\w{3,9} \\d{1,2}, \\d{4}\\b\")  \n",
    "    due_date_pattern = re.compile(r\"due\\b.*(?:\\bon\\b|\\breceipt\\b)\", re.IGNORECASE)  \n",
    "    amount_pattern = re.compile(r\"CAD \\$\\d+(\\.\\d{2})?\") \n",
    "    email_pattern = re.compile(r\"[a-zA-Z0-9._%+-]+@[a-zA-Z0-9.-]+\\.[a-zA-Z]{2,}\") \n",
    "\n",
    "    # Extract values based on patterns\n",
    "    for i, line in enumerate(lines):\n",
    "        if not metadata[\"invoice_number\"] and invoice_pattern.search(line):\n",
    "            metadata[\"invoice_number\"] = invoice_pattern.search(line).group()\n",
    "        \n",
    "        if not metadata[\"date\"] and date_pattern.search(line):\n",
    "            metadata[\"date\"] = date_pattern.search(line).group()\n",
    "\n",
    "        if not metadata[\"due_date\"] and due_date_pattern.search(line):\n",
    "            # Capture text around the due date (e.g., \"On Receipt\" or a specific date)\n",
    "            metadata[\"due_date\"] = line.strip()\n",
    "        \n",
    "        if not metadata[\"total_amount\"] and amount_pattern.search(line):\n",
    "            metadata[\"total_amount\"] = amount_pattern.search(line).group()\n",
    "        \n",
    "        if not metadata[\"customer_email\"] and email_pattern.search(line):\n",
    "            metadata[\"customer_email\"] = email_pattern.search(line).group()\n",
    "        \n",
    "        # Match customer name based on 'BILL TO' line, then store next line as name\n",
    "        if \"BILL TO\" in line:\n",
    "            metadata[\"customer_name\"] = lines[i + 1].strip() if i + 1 < len(lines) else None\n",
    "        \n",
    "        # Capture business name by looking for lines before \"INVOICE\"\n",
    "        if \"INVOICE\" in line and i > 0:\n",
    "            metadata[\"business_name\"] = lines[i - 1].strip()\n",
    "\n",
    "        # Capture business email by looking for an email not already marked as customer email\n",
    "        if email_pattern.search(line) and not metadata[\"business_email\"]:\n",
    "            email_match = email_pattern.search(line).group()\n",
    "            # If it's not the customer email, assign it to business email\n",
    "            if email_match != metadata[\"customer_email\"]:\n",
    "                metadata[\"business_email\"] = email_match\n",
    "\n",
    "    return metadata\n"
   ]
  },
  {
   "cell_type": "code",
   "execution_count": 43,
   "id": "b68d8ef2-a4e7-4252-bada-cb3b70cc40d9",
   "metadata": {},
   "outputs": [
    {
     "data": {
      "text/plain": [
       "{'invoice_number': 'INV0001',\n",
       " 'date': 'Nov 9, 2024',\n",
       " 'due_date': None,\n",
       " 'total_amount': 'CAD $105.00',\n",
       " 'customer_name': 'John Doe',\n",
       " 'customer_email': 'abc.inv@business.co',\n",
       " 'business_name': '11/9/24, 12:53 PM ABC Company - Invoice INV0001',\n",
       " 'business_email': 'John.doe@email.com'}"
      ]
     },
     "execution_count": 43,
     "metadata": {},
     "output_type": "execute_result"
    }
   ],
   "source": [
    "parse_invoice_metadata(txt)"
   ]
  },
  {
   "cell_type": "code",
   "execution_count": null,
   "id": "5cd6cfd8-c00f-4233-854b-473b269c8fef",
   "metadata": {},
   "outputs": [],
   "source": []
  }
 ],
 "metadata": {
  "kernelspec": {
   "display_name": "Python 3 (ipykernel)",
   "language": "python",
   "name": "python3"
  },
  "language_info": {
   "codemirror_mode": {
    "name": "ipython",
    "version": 3
   },
   "file_extension": ".py",
   "mimetype": "text/x-python",
   "name": "python",
   "nbconvert_exporter": "python",
   "pygments_lexer": "ipython3",
   "version": "3.9.13"
  }
 },
 "nbformat": 4,
 "nbformat_minor": 5
}

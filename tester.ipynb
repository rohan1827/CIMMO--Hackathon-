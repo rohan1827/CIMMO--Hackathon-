{
 "cells": [
  {
   "cell_type": "code",
   "execution_count": 4,
   "id": "33252ee7-14df-459a-bb0e-2c39cc7d46f5",
   "metadata": {},
   "outputs": [],
   "source": [
    "# notebook to test out the basic functionlaites needed for the solution"
   ]
  },
  {
   "cell_type": "code",
   "execution_count": 40,
   "id": "1f875abe-2935-432a-b3bf-fd01adce505d",
   "metadata": {},
   "outputs": [],
   "source": [
    "# !pip install pdfplumber"
   ]
  },
  {
   "cell_type": "code",
   "execution_count": null,
   "id": "ea32eddc-3c8a-43b3-b624-879084525dca",
   "metadata": {},
   "outputs": [],
   "source": [
    "import pytesseract\n",
    "import pdfplumber\n",
    "from pdf2image import convert_from_path\n",
    "import warnings\n",
    "import os\n",
    "import re\n",
    "from datetime import datetime, timedelta\n",
    "warnings.filterwarnings('ignore')"
   ]
  },
  {
   "cell_type": "code",
   "execution_count": 21,
   "id": "82077373-b919-4959-a80b-9cf1b55cefbf",
   "metadata": {},
   "outputs": [],
   "source": [
    "# the user uploads the image or the pdf and we convert it and get data out of it\n",
    "from tkinter import Image\n",
    "\n",
    "# file_path = 'invoice_Aaron Hawkins_6817.pdf'\n",
    "file_path = 'ABC Company - Invoice INV0001.pdf' # this is a sample invoice we shall be using to extract data\n",
    "def read_invoice(invoice):\n",
    "    \"\"\"\n",
    "    This method shall only accept PDF or Images of the invoice and we shall get the data out of it.\n",
    "    \"\"\"\n",
    "    file_extension = os.path.splitext(file_path)[1].lower()\n",
    "    \n",
    "    if file_extension == '.pdf':\n",
    "        # reading data from the pdf, handling pdf data\n",
    "        text = \"\"\n",
    "        with pdfplumber.open(file_path) as pdf:\n",
    "            for page in pdf.pages:\n",
    "                text += page.extract_text() + \"\\n\"\n",
    "    \n",
    "    \n",
    "    return text"
   ]
  },
  {
   "cell_type": "code",
   "execution_count": 22,
   "id": "d010b957-afaa-45f4-9eef-5a22fd9caa31",
   "metadata": {},
   "outputs": [
    {
     "name": "stdout",
     "output_type": "stream",
     "text": [
      "11/9/24, 12:53 PM ABC Company - Invoice INV0001\n",
      "ABC Company INVOICE\n",
      "INV0001\n",
      "GST #\n",
      "333-444-555\n",
      "DATE\n",
      "123 - golden bridge street\n",
      "Hackathon city, Dream State Nov 9, 2024\n",
      "ABC 123 DUE\n",
      "123-456-789\n",
      "On Receipt\n",
      "abc.inv@business.co\n",
      "BALANCE DUE\n",
      "CAD $105.00\n",
      "BILL TO\n",
      "John Doe\n",
      "121 - silver street lane\n",
      "hackathon city, dream state\n",
      "ABC 123\n",
      "456-789-000\n",
      "123-444-5555\n",
      "John.doe@email.com\n",
      "DESCRIPTION RATE QTY AMOUNT\n",
      "WIFI SERVICE CHARGES\n",
      "$100.00 1 $100.00\n",
      "service charges for the wifi as per consumption\n",
      "SUBTOTAL $100.00\n",
      "TAX(5%)\n",
      "$5.00\n",
      "TOTAL $105.00\n",
      "BALANCE DUE CAD $105.00\n",
      "https://app.invoicesimple.com/v/5218eE5X7G 1/1\n",
      "\n"
     ]
    },
    {
     "data": {
      "text/plain": [
       "str"
      ]
     },
     "execution_count": 22,
     "metadata": {},
     "output_type": "execute_result"
    }
   ],
   "source": [
    "txt = read_invoice(file_path)\n",
    "print(txt)\n",
    "type(txt)"
   ]
  },
  {
   "cell_type": "code",
   "execution_count": 23,
   "id": "83759a77-43c0-4dec-b927-1f01a19ea130",
   "metadata": {},
   "outputs": [],
   "source": [
    "def parse_invoice_metadata(text):\n",
    "    \"\"\"\n",
    "    Parse through the data gathered by read_invoice()\n",
    "    Returns metadata dictionary with corrected email assignments and due date handling\n",
    "    \"\"\"\n",
    "    # Initialize a dictionary to store metadata\n",
    "    metadata = {\n",
    "        \"invoice_number\": None,\n",
    "        \"date\": None,\n",
    "        \"due_date\": None,\n",
    "        \"total_amount\": None,\n",
    "        \"customer_name\": None,\n",
    "        \"customer_email\": None,\n",
    "        \"business_name\": None,\n",
    "        \"business_email\": None,\n",
    "    }\n",
    "\n",
    "    lines = text.split(\"\\n\")\n",
    "\n",
    "    # Regex patterns for different fields\n",
    "    invoice_pattern = re.compile(r\"INV\\d+\")\n",
    "    date_pattern = re.compile(r\"\\b\\w{3,9} \\d{1,2}, \\d{4}\\b\")\n",
    "    due_date_pattern = re.compile(r\"due\\b.*(?:\\bon\\b|\\breceipt\\b)\", re.IGNORECASE)\n",
    "    amount_pattern = re.compile(r\"CAD \\$\\d+(\\.\\d{2})?\")\n",
    "    email_pattern = re.compile(r\"[a-zA-Z0-9._%+-]+@[a-zA-Z0-9.-]+\\.[a-zA-Z]{2,}\")\n",
    "\n",
    "    # First pass: Find business and customer sections\n",
    "    bill_to_index = -1\n",
    "    for i, line in enumerate(lines):\n",
    "        if \"BILL TO\" in line:\n",
    "            bill_to_index = i\n",
    "            break\n",
    "\n",
    "    # Extract values based on patterns\n",
    "    for i, line in enumerate(lines):\n",
    "        if not metadata[\"invoice_number\"] and invoice_pattern.search(line):\n",
    "            metadata[\"invoice_number\"] = invoice_pattern.search(line).group()\n",
    "\n",
    "        if not metadata[\"date\"] and date_pattern.search(line):\n",
    "            invoice_date = date_pattern.search(line).group()\n",
    "            metadata[\"date\"] = invoice_date\n",
    "            # If no due date is found, set it to 30 days after invoice date\n",
    "            if not metadata[\"due_date\"]:\n",
    "                try:\n",
    "                    date_obj = datetime.strptime(invoice_date, \"%b %d, %Y\")\n",
    "                    due_date = date_obj + timedelta(days=30)\n",
    "                    metadata[\"due_date\"] = due_date.strftime(\"%b %d, %Y\")\n",
    "                except ValueError:\n",
    "                    metadata[\"due_date\"] = \"30 days from invoice date\"\n",
    "\n",
    "        if not metadata[\"due_date\"] and due_date_pattern.search(line):\n",
    "            metadata[\"due_date\"] = line.strip()\n",
    "\n",
    "        if not metadata[\"total_amount\"] and amount_pattern.search(line):\n",
    "            metadata[\"total_amount\"] = amount_pattern.search(line).group()\n",
    "\n",
    "        # Email handling with position-based logic\n",
    "        if email_pattern.search(line):\n",
    "            email = email_pattern.search(line).group()\n",
    "            # If line is after BILL TO section, it's customer email\n",
    "            if bill_to_index != -1 and i > bill_to_index:\n",
    "                metadata[\"customer_email\"] = email\n",
    "            # If line is before BILL TO section, it's business email\n",
    "            elif bill_to_index != -1 and i < bill_to_index:\n",
    "                metadata[\"business_email\"] = email\n",
    "\n",
    "        # Match customer name based on 'BILL TO' line\n",
    "        if i == bill_to_index + 1:  # Next line after \"BILL TO\"\n",
    "            metadata[\"customer_name\"] = line.strip()\n",
    "\n",
    "        # Capture business name by looking for lines before \"INVOICE\"\n",
    "        if \"INVOICE\" in line and i > 0:\n",
    "            metadata[\"business_name\"] = lines[i - 1].strip()\n",
    "\n",
    "    return metadata"
   ]
  },
  {
   "cell_type": "code",
   "execution_count": 24,
   "id": "b68d8ef2-a4e7-4252-bada-cb3b70cc40d9",
   "metadata": {},
   "outputs": [
    {
     "ename": "NameError",
     "evalue": "name 'timedelta' is not defined",
     "output_type": "error",
     "traceback": [
      "\u001b[1;31m---------------------------------------------------------------------------\u001b[0m",
      "\u001b[1;31mNameError\u001b[0m                                 Traceback (most recent call last)",
      "Cell \u001b[1;32mIn[24], line 1\u001b[0m\n\u001b[1;32m----> 1\u001b[0m \u001b[43mparse_invoice_metadata\u001b[49m\u001b[43m(\u001b[49m\u001b[43mtxt\u001b[49m\u001b[43m)\u001b[49m\n",
      "Cell \u001b[1;32mIn[23], line 46\u001b[0m, in \u001b[0;36mparse_invoice_metadata\u001b[1;34m(text)\u001b[0m\n\u001b[0;32m     44\u001b[0m \u001b[38;5;28;01mtry\u001b[39;00m:\n\u001b[0;32m     45\u001b[0m     date_obj \u001b[38;5;241m=\u001b[39m datetime\u001b[38;5;241m.\u001b[39mstrptime(invoice_date, \u001b[38;5;124m\"\u001b[39m\u001b[38;5;124m%\u001b[39m\u001b[38;5;124mb \u001b[39m\u001b[38;5;132;01m%d\u001b[39;00m\u001b[38;5;124m, \u001b[39m\u001b[38;5;124m%\u001b[39m\u001b[38;5;124mY\u001b[39m\u001b[38;5;124m\"\u001b[39m)\n\u001b[1;32m---> 46\u001b[0m     due_date \u001b[38;5;241m=\u001b[39m date_obj \u001b[38;5;241m+\u001b[39m \u001b[43mtimedelta\u001b[49m(days\u001b[38;5;241m=\u001b[39m\u001b[38;5;241m30\u001b[39m)\n\u001b[0;32m     47\u001b[0m     metadata[\u001b[38;5;124m\"\u001b[39m\u001b[38;5;124mdue_date\u001b[39m\u001b[38;5;124m\"\u001b[39m] \u001b[38;5;241m=\u001b[39m due_date\u001b[38;5;241m.\u001b[39mstrftime(\u001b[38;5;124m\"\u001b[39m\u001b[38;5;124m%\u001b[39m\u001b[38;5;124mb \u001b[39m\u001b[38;5;132;01m%d\u001b[39;00m\u001b[38;5;124m, \u001b[39m\u001b[38;5;124m%\u001b[39m\u001b[38;5;124mY\u001b[39m\u001b[38;5;124m\"\u001b[39m)\n\u001b[0;32m     48\u001b[0m \u001b[38;5;28;01mexcept\u001b[39;00m \u001b[38;5;167;01mValueError\u001b[39;00m:\n",
      "\u001b[1;31mNameError\u001b[0m: name 'timedelta' is not defined"
     ]
    }
   ],
   "source": [
    "parse_invoice_metadata(txt)"
   ]
  },
  {
   "cell_type": "code",
   "execution_count": null,
   "id": "5cd6cfd8-c00f-4233-854b-473b269c8fef",
   "metadata": {},
   "outputs": [],
   "source": []
  }
 ],
 "metadata": {
  "kernelspec": {
   "display_name": "base",
   "language": "python",
   "name": "python3"
  },
  "language_info": {
   "codemirror_mode": {
    "name": "ipython",
    "version": 3
   },
   "file_extension": ".py",
   "mimetype": "text/x-python",
   "name": "python",
   "nbconvert_exporter": "python",
   "pygments_lexer": "ipython3",
   "version": "3.9.13"
  }
 },
 "nbformat": 4,
 "nbformat_minor": 5
}
